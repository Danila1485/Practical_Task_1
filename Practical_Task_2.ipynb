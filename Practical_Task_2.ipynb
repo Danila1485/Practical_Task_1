{
  "nbformat": 4,
  "nbformat_minor": 0,
  "metadata": {
    "colab": {
      "provenance": [],
      "authorship_tag": "ABX9TyMz/sJ2OSXp1MU9Pij1HOqY",
      "include_colab_link": true
    },
    "kernelspec": {
      "name": "python3",
      "display_name": "Python 3"
    },
    "language_info": {
      "name": "python"
    }
  },
  "cells": [
    {
      "cell_type": "markdown",
      "metadata": {
        "id": "view-in-github",
        "colab_type": "text"
      },
      "source": [
        "<a href=\"https://colab.research.google.com/github/Danila1485/Python_Tasks/blob/Second/Practical_Task_2.ipynb\" target=\"_parent\"><img src=\"https://colab.research.google.com/assets/colab-badge.svg\" alt=\"Open In Colab\"/></a>"
      ]
    },
    {
      "cell_type": "markdown",
      "source": [
        "**№1.1** На вход подается строка, состоящая из одного числа. Напишите программу, которая удваивает его."
      ],
      "metadata": {
        "id": "B46oP_BvU9br"
      }
    },
    {
      "cell_type": "code",
      "source": [
        "x = int(input())\n",
        "print(2*x)"
      ],
      "metadata": {
        "colab": {
          "base_uri": "https://localhost:8080/"
        },
        "id": "cj_OXJZVVeRO",
        "outputId": "cc981afc-687d-46d8-8e74-9577d17dd36e"
      },
      "execution_count": null,
      "outputs": [
        {
          "output_type": "stream",
          "name": "stdout",
          "text": [
            "646\n",
            "1292\n"
          ]
        }
      ]
    },
    {
      "cell_type": "markdown",
      "source": [
        "**№1.2** Вводится число. Вывести его квадрат."
      ],
      "metadata": {
        "id": "BRsVWy3CTnnc"
      }
    },
    {
      "cell_type": "code",
      "source": [
        "x1 = int(input())\n",
        "print(x1**2)"
      ],
      "metadata": {
        "colab": {
          "base_uri": "https://localhost:8080/"
        },
        "id": "E9gNIBkwVeh4",
        "outputId": "60ab1788-af23-4c92-be6f-890edc526638"
      },
      "execution_count": null,
      "outputs": [
        {
          "output_type": "stream",
          "name": "stdout",
          "text": [
            "23\n",
            "529\n"
          ]
        }
      ]
    },
    {
      "cell_type": "markdown",
      "source": [
        "**№1.3** Вводятся часы, минуты и секунды. Вывести, сколько секунд прошло с полуночи.\n",
        "Вывести, какая часть суток прошла (число от 0 до 1)."
      ],
      "metadata": {
        "id": "btSde3XITn9w"
      }
    },
    {
      "cell_type": "code",
      "source": [
        "h = int(input())\n",
        "m = int(input())\n",
        "s = int(input())\n",
        "time = h*60*60 + m*60 + s\n",
        "print(' seconds:', time, '\\n', 'day part:', round(time/(60*60*24), 4))"
      ],
      "metadata": {
        "colab": {
          "base_uri": "https://localhost:8080/"
        },
        "id": "8xg2qwtCVe29",
        "outputId": "b774e1b2-0d01-487e-fe4d-3cb2042ee1f8"
      },
      "execution_count": null,
      "outputs": [
        {
          "output_type": "stream",
          "name": "stdout",
          "text": [
            "19\n",
            "54\n",
            "12\n",
            " seconds: 71652 \n",
            " day part: 0.8293\n"
          ]
        }
      ]
    },
    {
      "cell_type": "markdown",
      "source": [
        "**№2.1** Вводится число. Вывести, оканчивается ли оно на цифру 7, не используя приведение к строке и операции над строками\n"
      ],
      "metadata": {
        "id": "hnyuH0mdToAK"
      }
    },
    {
      "cell_type": "code",
      "source": [
        "x2 = int(input())\n",
        "print(x2%10==7)\n"
      ],
      "metadata": {
        "colab": {
          "base_uri": "https://localhost:8080/"
        },
        "id": "uxGxyUp_VfPL",
        "outputId": "fe9b8777-df3d-45af-b935-b5ef4b4dd477"
      },
      "execution_count": 1,
      "outputs": [
        {
          "output_type": "stream",
          "name": "stdout",
          "text": [
            "34257\n",
            "True\n"
          ]
        }
      ]
    },
    {
      "cell_type": "markdown",
      "source": [
        "**№2.2** Вводятся коэффициенты уравнения ax2+bx+c=0. Вывести его корни(не забыть проверить, что a не равно 0)"
      ],
      "metadata": {
        "id": "wo4-hUnwToCu"
      }
    },
    {
      "cell_type": "code",
      "source": [
        "a,b,c = int(input()), int(input()), int(input())\n",
        "if a == 0:\n",
        "  print(-c/b)\n",
        "else:\n",
        "  D = b**2 - 4*a*c\n",
        "  if D == 0:\n",
        "    print(round(-b/2*a), 4)\n",
        "  elif D>0:\n",
        "    print(round((-b+D**0.5)/2/a, 4), 'и', round((-b-D**0.5)/2/a, 4))\n",
        "  else:\n",
        "    print('no solutions')"
      ],
      "metadata": {
        "colab": {
          "base_uri": "https://localhost:8080/"
        },
        "id": "wYGfqyiTVfh-",
        "outputId": "a8f6d31a-4046-462d-8b0c-64bb19022fbc"
      },
      "execution_count": null,
      "outputs": [
        {
          "output_type": "stream",
          "name": "stdout",
          "text": [
            "6\n",
            "16\n",
            "-26\n",
            "1.1387 и -3.8054\n"
          ]
        }
      ]
    },
    {
      "cell_type": "markdown",
      "source": [
        "**№2.3** Вводятся три числа. Вывести максимум из них."
      ],
      "metadata": {
        "id": "lfBakl1yToFM"
      }
    },
    {
      "cell_type": "code",
      "source": [
        "a1,b1,c1 = int(input()), int(input()), int(input())\n",
        "print(max(a1,b1,c1))"
      ],
      "metadata": {
        "colab": {
          "base_uri": "https://localhost:8080/"
        },
        "id": "T-TNGjN9Vf00",
        "outputId": "f902f0e9-e2c1-4786-bffc-7f7755efaa20"
      },
      "execution_count": null,
      "outputs": [
        {
          "output_type": "stream",
          "name": "stdout",
          "text": [
            "4\n",
            "14\n",
            "5\n",
            "14\n"
          ]
        }
      ]
    },
    {
      "cell_type": "markdown",
      "source": [
        "**№3.1** Вводится число. Вывести среднее арифметическое (с точностью до двух знаков после запятой) тех чисел в диапазоне от единицы до введённого числа, которые делятся 5 или являются четными.\n"
      ],
      "metadata": {
        "id": "I4Nc9LBaToHc"
      }
    },
    {
      "cell_type": "code",
      "source": [
        "n = int(input())\n",
        "count=0\n",
        "summ=0\n",
        "for i in range(1,n):\n",
        "  if i%5==0 or i%2==0:\n",
        "    summ+=i\n",
        "    count+=1\n",
        "print(round(summ/count, 2))\n"
      ],
      "metadata": {
        "colab": {
          "base_uri": "https://localhost:8080/"
        },
        "id": "BQlFRD1CVgKi",
        "outputId": "a8ae04f8-8275-4b77-8da4-e93911cb7886"
      },
      "execution_count": null,
      "outputs": [
        {
          "output_type": "stream",
          "name": "stdout",
          "text": [
            "23\n",
            "11.69\n"
          ]
        }
      ]
    }
  ]
}