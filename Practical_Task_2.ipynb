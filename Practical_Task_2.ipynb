{
  "nbformat": 4,
  "nbformat_minor": 0,
  "metadata": {
    "colab": {
      "provenance": [],
      "authorship_tag": "ABX9TyM6e7rUDeT4ik8i78EnPYGR",
      "include_colab_link": true
    },
    "kernelspec": {
      "name": "python3",
      "display_name": "Python 3"
    },
    "language_info": {
      "name": "python"
    }
  },
  "cells": [
    {
      "cell_type": "markdown",
      "metadata": {
        "id": "view-in-github",
        "colab_type": "text"
      },
      "source": [
        "<a href=\"https://colab.research.google.com/github/Danila1485/Python_Tasks/blob/Second/Practical_Task_2.ipynb\" target=\"_parent\"><img src=\"https://colab.research.google.com/assets/colab-badge.svg\" alt=\"Open In Colab\"/></a>"
      ]
    },
    {
      "cell_type": "markdown",
      "source": [
        "**№1.1** На вход подается строка, состоящая из одного числа. Напишите программу, которая удваивает его."
      ],
      "metadata": {
        "id": "B46oP_BvU9br"
      }
    },
    {
      "cell_type": "code",
      "source": [
        "x = 646\n",
        "print(2*x)"
      ],
      "metadata": {
        "colab": {
          "base_uri": "https://localhost:8080/"
        },
        "id": "cj_OXJZVVeRO",
        "outputId": "4e73b223-ba56-49f0-fb7c-e0738b67dc5b"
      },
      "execution_count": 23,
      "outputs": [
        {
          "output_type": "stream",
          "name": "stdout",
          "text": [
            "1292\n"
          ]
        }
      ]
    },
    {
      "cell_type": "markdown",
      "source": [
        "**№1.2** Вводится число. Вывести его квадрат."
      ],
      "metadata": {
        "id": "BRsVWy3CTnnc"
      }
    },
    {
      "cell_type": "code",
      "source": [
        "x1 = 23\n",
        "print(x1**2)"
      ],
      "metadata": {
        "colab": {
          "base_uri": "https://localhost:8080/"
        },
        "id": "E9gNIBkwVeh4",
        "outputId": "d4758669-cb67-4441-c364-928c80473611"
      },
      "execution_count": 24,
      "outputs": [
        {
          "output_type": "stream",
          "name": "stdout",
          "text": [
            "529\n"
          ]
        }
      ]
    },
    {
      "cell_type": "markdown",
      "source": [
        "**№1.3** Вводятся часы, минуты и секунды. Вывести, сколько секунд прошло с полуночи.\n",
        "Вывести, какая часть суток прошла (число от 0 до 1)."
      ],
      "metadata": {
        "id": "btSde3XITn9w"
      }
    },
    {
      "cell_type": "code",
      "source": [
        "h = 19\n",
        "m = 54\n",
        "s = 12\n",
        "time = h*60*60 + m*60 + s\n",
        "print(' seconds:', time, '\\n', 'day part:', round(time/(60*60*24), 4))"
      ],
      "metadata": {
        "colab": {
          "base_uri": "https://localhost:8080/"
        },
        "id": "8xg2qwtCVe29",
        "outputId": "f54bfcd2-d73a-436e-a35e-d7ea213e9971"
      },
      "execution_count": 12,
      "outputs": [
        {
          "output_type": "stream",
          "name": "stdout",
          "text": [
            " seconds: 71652 \n",
            " day part: 0.8293\n"
          ]
        }
      ]
    },
    {
      "cell_type": "markdown",
      "source": [
        "**№2.1** Вводится число. Вывести, оканчивается ли оно на цифру 7, не используя приведение к строке и операции над строками\n"
      ],
      "metadata": {
        "id": "hnyuH0mdToAK"
      }
    },
    {
      "cell_type": "code",
      "source": [
        "x2 = 345437\n",
        "if x2%10==7:\n",
        "  print('TRUE')\n",
        "else:\n",
        "  print('FALSE')"
      ],
      "metadata": {
        "colab": {
          "base_uri": "https://localhost:8080/"
        },
        "id": "uxGxyUp_VfPL",
        "outputId": "9b8719c8-a749-49c8-dabd-c8598e84b155"
      },
      "execution_count": 25,
      "outputs": [
        {
          "output_type": "stream",
          "name": "stdout",
          "text": [
            "TRUE\n"
          ]
        }
      ]
    },
    {
      "cell_type": "markdown",
      "source": [
        "**№2.2** Вводятся коэффициенты уравнения ax2+bx+c=0. Вывести его корни(не забыть проверить, что a не равно 0)"
      ],
      "metadata": {
        "id": "wo4-hUnwToCu"
      }
    },
    {
      "cell_type": "code",
      "source": [
        "a,b,c = 6, 16, -26\n",
        "#a,b,c = int(input()), int(input()), int(input())\n",
        "if a == 0:\n",
        "  print(-c/b)\n",
        "else:\n",
        "  D = b**2 - 4*a*c\n",
        "  if D == 0:\n",
        "    print(round(-b/2*a), 4)\n",
        "  elif D>0:\n",
        "    print(round((-b+D**0.5)/2/a, 4), 'и', round((-b-D**0.5)/2/a, 4))\n",
        "  else:\n",
        "    print('no solutions')"
      ],
      "metadata": {
        "colab": {
          "base_uri": "https://localhost:8080/"
        },
        "id": "wYGfqyiTVfh-",
        "outputId": "276383d8-63f6-48a1-dc59-cb4de292476a"
      },
      "execution_count": 33,
      "outputs": [
        {
          "output_type": "stream",
          "name": "stdout",
          "text": [
            "1.1387 и -3.8054\n"
          ]
        }
      ]
    },
    {
      "cell_type": "markdown",
      "source": [
        "**№2.3** Вводятся три числа. Вывести максимум из них."
      ],
      "metadata": {
        "id": "lfBakl1yToFM"
      }
    },
    {
      "cell_type": "code",
      "source": [
        "a1,b1,c1 = 4,14,5\n",
        "#a1,b1,c1 = int(input()), int(input()), int(input())\n",
        "print(max(a1,b1,c1))"
      ],
      "metadata": {
        "colab": {
          "base_uri": "https://localhost:8080/"
        },
        "id": "T-TNGjN9Vf00",
        "outputId": "80e5e7a0-3168-48a1-f9e2-d63d9c0494f4"
      },
      "execution_count": 34,
      "outputs": [
        {
          "output_type": "stream",
          "name": "stdout",
          "text": [
            "14\n"
          ]
        }
      ]
    },
    {
      "cell_type": "markdown",
      "source": [
        "**№3.1** Вводится число. Вывести среднее арифметическое (с точностью до двух знаков после запятой) тех чисел в диапазоне от единицы до введённого числа, которые делятся 5 или являются четными.\n"
      ],
      "metadata": {
        "id": "I4Nc9LBaToHc"
      }
    },
    {
      "cell_type": "code",
      "source": [
        "n = 23\n",
        "count=0\n",
        "summ=0\n",
        "for i in range(1,n):\n",
        "  if i%5==0 or i%2==0:\n",
        "    summ+=i\n",
        "    count+=1\n",
        "print(round(summ/count, 2))\n"
      ],
      "metadata": {
        "colab": {
          "base_uri": "https://localhost:8080/"
        },
        "id": "BQlFRD1CVgKi",
        "outputId": "ace33d8b-c5dd-4b5c-bb61-72292166e802"
      },
      "execution_count": 38,
      "outputs": [
        {
          "output_type": "stream",
          "name": "stdout",
          "text": [
            "11.69\n"
          ]
        }
      ]
    }
  ]
}