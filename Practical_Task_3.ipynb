{
  "nbformat": 4,
  "nbformat_minor": 0,
  "metadata": {
    "colab": {
      "provenance": [],
      "authorship_tag": "ABX9TyNBARe4Q2hapwMba33E8pe7",
      "include_colab_link": true
    },
    "kernelspec": {
      "name": "python3",
      "display_name": "Python 3"
    },
    "language_info": {
      "name": "python"
    }
  },
  "cells": [
    {
      "cell_type": "markdown",
      "metadata": {
        "id": "view-in-github",
        "colab_type": "text"
      },
      "source": [
        "<a href=\"https://colab.research.google.com/github/Danila1485/Python_Tasks/blob/Third/Practical_Task_3.ipynb\" target=\"_parent\"><img src=\"https://colab.research.google.com/assets/colab-badge.svg\" alt=\"Open In Colab\"/></a>"
      ]
    },
    {
      "cell_type": "code",
      "execution_count": 2,
      "metadata": {
        "id": "JYnsndQQSoFv"
      },
      "outputs": [],
      "source": [
        "import numpy as np"
      ]
    },
    {
      "cell_type": "markdown",
      "source": [
        "**№1** Вводится вектор. Вывести максимум из его элементов."
      ],
      "metadata": {
        "id": "vI8u_FQUSzie"
      }
    },
    {
      "cell_type": "code",
      "source": [
        "vtr = np.array([int(x) for x in input().split()])\n",
        "print(max(vtr))"
      ],
      "metadata": {
        "colab": {
          "base_uri": "https://localhost:8080/"
        },
        "id": "RFFFEfYmS-bE",
        "outputId": "15a332c4-9268-4b32-f752-d04d046cdd4c"
      },
      "execution_count": null,
      "outputs": [
        {
          "output_type": "stream",
          "name": "stdout",
          "text": [
            "6 64 89 222 13 62 5\n",
            "222\n"
          ]
        }
      ]
    },
    {
      "cell_type": "markdown",
      "source": [
        "**№2**\tВводится вектор. Заменить в нём каждое число Фибоначчи на следующее."
      ],
      "metadata": {
        "id": "6tAkXXsZYIqb"
      }
    },
    {
      "cell_type": "code",
      "source": [
        "fib = [1,1]\n",
        "for i in range(1,1000):\n",
        "  fib.append(fib[-1]+fib[-2])\n",
        "\n",
        "vtr1 = np.array([int(x) for x in input().split()])\n",
        "for i in range(len(vtr1)):\n",
        "  if vtr1[i] in fib:\n",
        "    vtr1[i] = fib[fib.index(vtr1[i])+1]\n",
        "print(vtr1)\n"
      ],
      "metadata": {
        "colab": {
          "base_uri": "https://localhost:8080/"
        },
        "id": "dkCAqLeBXFX5",
        "outputId": "7f301600-f809-49b8-f80c-9891dcb35e6e"
      },
      "execution_count": 3,
      "outputs": [
        {
          "output_type": "stream",
          "name": "stdout",
          "text": [
            "6 64 89 222 13 62 5\n",
            "[  6  64 144 222  21  62   8]\n"
          ]
        }
      ]
    },
    {
      "cell_type": "markdown",
      "source": [
        "**№3** Напишите программу, которая помогает определить какие вещи могут поместиться в рюкзак. Вводится существующий объем рюкзака. Затем вводятся объемы всех вещей, которые хочется туда поместить. Нужно вывести список объемов вещей, которые поместятся в рюкзак. Постарайтесь максимизировать кол-во вошедших вещей."
      ],
      "metadata": {
        "id": "sMoAJHZRdP36"
      }
    },
    {
      "cell_type": "code",
      "source": [
        "capacity = int(input())\n",
        "vec = np.array([int(x) for x in input().split()])\n",
        "vec = list(vec)\n",
        "vec = sorted(vec)\n",
        "volume = 0\n",
        "for i in range(len(vec)):\n",
        "  if volume + vec[i] <= capacity:\n",
        "    volume += vec[i]\n",
        "  else:\n",
        "    vec = np.array(vec)\n",
        "    print('лучший способ:', vec[0:i])\n",
        "    break\n"
      ],
      "metadata": {
        "colab": {
          "base_uri": "https://localhost:8080/"
        },
        "id": "WIOfAn0IdUbX",
        "outputId": "7fe05a27-3494-4691-e02b-3d80366b86bd"
      },
      "execution_count": null,
      "outputs": [
        {
          "output_type": "stream",
          "name": "stdout",
          "text": [
            "20\n",
            "2 4 8 12 16\n",
            "лучший способ: [2 4 8]\n"
          ]
        }
      ]
    },
    {
      "cell_type": "markdown",
      "source": [
        "**№4** Данные об email-адресах студентов хранятся в словаре: {домен:логины} . Нужно дополнить код таким образом, чтобы он вывел все адреса в алфавитном порядке и в формате имя_пользователя@домен"
      ],
      "metadata": {
        "id": "6GqMZou_lcAE"
      }
    },
    {
      "cell_type": "code",
      "source": [
        "dic = {'rea.ru': ['misha', 'pasha'], 'study.com': ['olga', 'nastay', 'igor']}\n",
        "logins = sorted(dic['study.com'] + dic['rea.ru'])\n",
        "\n",
        "def get_key(v):\n",
        "  if v in dic['study.com']:\n",
        "    return 'study.com'\n",
        "  else:\n",
        "    return 'rea.ru'\n",
        "\n",
        "for i in range(len(logins)):\n",
        "  print(logins[i]+'@'+ get_key(logins[i]))\n"
      ],
      "metadata": {
        "id": "Cr_etBAwlfkN",
        "colab": {
          "base_uri": "https://localhost:8080/"
        },
        "outputId": "c27f1a09-4e78-4914-9460-24fce89737a1"
      },
      "execution_count": 22,
      "outputs": [
        {
          "output_type": "stream",
          "name": "stdout",
          "text": [
            "igor@study.com\n",
            "misha@rea.ru\n",
            "nastay@study.com\n",
            "olga@study.com\n",
            "pasha@rea.ru\n"
          ]
        }
      ]
    }
  ]
}