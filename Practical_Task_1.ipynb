{
  "nbformat": 4,
  "nbformat_minor": 0,
  "metadata": {
    "colab": {
      "provenance": [],
      "authorship_tag": "ABX9TyNc0tHKb7Fpgp6i6Up7peXW",
      "include_colab_link": true
    },
    "kernelspec": {
      "name": "python3",
      "display_name": "Python 3"
    },
    "language_info": {
      "name": "python"
    }
  },
  "cells": [
    {
      "cell_type": "markdown",
      "metadata": {
        "id": "view-in-github",
        "colab_type": "text"
      },
      "source": [
        "<a href=\"https://colab.research.google.com/github/Danila1485/Practical_Task_1/blob/first/Practical_Task_1.ipynb\" target=\"_parent\"><img src=\"https://colab.research.google.com/assets/colab-badge.svg\" alt=\"Open In Colab\"/></a>"
      ]
    },
    {
      "cell_type": "markdown",
      "source": [],
      "metadata": {
        "id": "HbrvTC8QtdgI"
      }
    },
    {
      "cell_type": "markdown",
      "source": [
        "№1\n",
        "\n",
        "Задана строка. Необходимо посчитать количество символов"
      ],
      "metadata": {
        "id": "_nQ6ZNNftfyI"
      }
    },
    {
      "cell_type": "code",
      "source": [
        "a = 'Hello world!'\n",
        "print(len(a))"
      ],
      "metadata": {
        "colab": {
          "base_uri": "https://localhost:8080/"
        },
        "id": "a8YnKR9puGTg",
        "outputId": "1813b10d-02b0-42f3-9320-6f5f57aee678"
      },
      "execution_count": 2,
      "outputs": [
        {
          "output_type": "stream",
          "name": "stdout",
          "text": [
            "12\n"
          ]
        }
      ]
    }
  ]
}