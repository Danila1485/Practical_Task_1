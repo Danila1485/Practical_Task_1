{
  "nbformat": 4,
  "nbformat_minor": 0,
  "metadata": {
    "colab": {
      "provenance": [],
      "authorship_tag": "ABX9TyNiZAlcYnUt1Vs4Wtws3+s+",
      "include_colab_link": true
    },
    "kernelspec": {
      "name": "python3",
      "display_name": "Python 3"
    },
    "language_info": {
      "name": "python"
    }
  },
  "cells": [
    {
      "cell_type": "markdown",
      "metadata": {
        "id": "view-in-github",
        "colab_type": "text"
      },
      "source": [
        "<a href=\"https://colab.research.google.com/github/Danila1485/Practical_Task_1/blob/first/Practical_Task_1.ipynb\" target=\"_parent\"><img src=\"https://colab.research.google.com/assets/colab-badge.svg\" alt=\"Open In Colab\"/></a>"
      ]
    },
    {
      "cell_type": "markdown",
      "source": [
        "**№1.1** Задана строка. Необходимо посчитать количество символов"
      ],
      "metadata": {
        "id": "_nQ6ZNNftfyI"
      }
    },
    {
      "cell_type": "code",
      "source": [
        "a = 'Hello world!'\n",
        "print(len(a))"
      ],
      "metadata": {
        "colab": {
          "base_uri": "https://localhost:8080/"
        },
        "id": "a8YnKR9puGTg",
        "outputId": "1813b10d-02b0-42f3-9320-6f5f57aee678"
      },
      "execution_count": 2,
      "outputs": [
        {
          "output_type": "stream",
          "name": "stdout",
          "text": [
            "12\n"
          ]
        }
      ]
    },
    {
      "cell_type": "markdown",
      "source": [
        "**№1.2** Измените порядок символов в строке на обратный."
      ],
      "metadata": {
        "id": "HhHYlwk2u1Vu"
      }
    },
    {
      "cell_type": "code",
      "source": [
        "print(a[::-1])"
      ],
      "metadata": {
        "colab": {
          "base_uri": "https://localhost:8080/"
        },
        "id": "_OTiZDE4vB84",
        "outputId": "507b99de-b4a5-4b5d-a6a8-20e4217126fd"
      },
      "execution_count": 3,
      "outputs": [
        {
          "output_type": "stream",
          "name": "stdout",
          "text": [
            "!dlrow olleH\n"
          ]
        }
      ]
    },
    {
      "cell_type": "markdown",
      "source": [
        "**№1.3** Найдите подстроку, заключенную в двойных кавычках в строке."
      ],
      "metadata": {
        "id": "wBv1eWP8vLuy"
      }
    },
    {
      "cell_type": "code",
      "source": [
        "s = \"Hello 'world'!\"\n",
        "print(s[s.find(\"'\")+1:len(s) - int(s[::-1].find(\"'\"))-1])"
      ],
      "metadata": {
        "colab": {
          "base_uri": "https://localhost:8080/"
        },
        "id": "ofu2zqlJvdL0",
        "outputId": "82d6856d-1ace-480b-f226-300e97c7e029"
      },
      "execution_count": 4,
      "outputs": [
        {
          "output_type": "stream",
          "name": "stdout",
          "text": [
            "world\n"
          ]
        }
      ]
    },
    {
      "cell_type": "markdown",
      "source": [
        "**№2.1** В строке записаны два числа, разделенные пробелом. Поменяйте их местами и напечатайте результат."
      ],
      "metadata": {
        "id": "mP4M2L_zvjiM"
      }
    },
    {
      "cell_type": "code",
      "source": [
        "st = '23 456'\n",
        "print(st[st.find(' ') + 1:], st[:st.find(' ')])"
      ],
      "metadata": {
        "colab": {
          "base_uri": "https://localhost:8080/"
        },
        "id": "kMpVtAlkv8uz",
        "outputId": "d7f8f994-4226-43bb-ce8c-69fca18eaef3"
      },
      "execution_count": 6,
      "outputs": [
        {
          "output_type": "stream",
          "name": "stdout",
          "text": [
            "456 23\n"
          ]
        }
      ]
    },
    {
      "cell_type": "markdown",
      "source": [
        "**№2.2** Из почтового адреса нужно достать логин"
      ],
      "metadata": {
        "id": "iMV66PRQwbY3"
      }
    },
    {
      "cell_type": "code",
      "source": [
        "email = 'ivan@lenta.ru'\n",
        "print(email[:email.find('@')])"
      ],
      "metadata": {
        "colab": {
          "base_uri": "https://localhost:8080/"
        },
        "id": "qhgZHkOXwlGl",
        "outputId": "a240e537-d24e-47f6-a8ed-9cb1cdf4e174"
      },
      "execution_count": 7,
      "outputs": [
        {
          "output_type": "stream",
          "name": "stdout",
          "text": [
            "ivan\n"
          ]
        }
      ]
    },
    {
      "cell_type": "markdown",
      "source": [
        "**№2.3** Человек вводит на сайте номер телефона, ему позволено для удобства использовать кроме плюса и цифр знаки ‘-’, ‘)’, ‘(’ и пробелы. Уберите их из ввода."
      ],
      "metadata": {
        "id": "QQsJoAZKwwiZ"
      }
    },
    {
      "cell_type": "code",
      "source": [
        "phone = '7(495) 234-56-78\t'\n",
        "phone = phone.replace(' ', '').replace('-', '').replace('(', '').replace(')', '')\n",
        "print(phone)"
      ],
      "metadata": {
        "colab": {
          "base_uri": "https://localhost:8080/"
        },
        "id": "fCGW_su8w43Z",
        "outputId": "0092373a-28d1-4c48-f26b-03b25d97dcb1"
      },
      "execution_count": 8,
      "outputs": [
        {
          "output_type": "stream",
          "name": "stdout",
          "text": [
            "74952345678\t\n"
          ]
        }
      ]
    },
    {
      "cell_type": "markdown",
      "source": [
        "**№3.1** Вводится строка. Разделитель слов – пробел. Вывести все слова (на отдельных строках)."
      ],
      "metadata": {
        "id": "A9d9mWcaxAxW"
      }
    },
    {
      "cell_type": "code",
      "source": [
        "string = 'Hello world!'\n",
        "while ' ' in string:\n",
        "  print(string[:string.find(' ')])\n",
        "  string = string[string.find(' ')+1:]\n",
        "print(string)"
      ],
      "metadata": {
        "colab": {
          "base_uri": "https://localhost:8080/"
        },
        "id": "W3LxIv2_xMlA",
        "outputId": "2a6fbba8-0a54-4271-cccc-bb2ae7f46590"
      },
      "execution_count": 10,
      "outputs": [
        {
          "output_type": "stream",
          "name": "stdout",
          "text": [
            "Hello\n",
            "world!\n"
          ]
        }
      ]
    },
    {
      "cell_type": "markdown",
      "source": [
        "**№3.2** Вам дана строка, состоящая только из букв английского алфавита и пробелов. Напишите программу, которая определит, является ли строка палиндромом."
      ],
      "metadata": {
        "id": "hGSTWpCSxlGN"
      }
    },
    {
      "cell_type": "code",
      "source": [
        "string1 = 'qwerty454ytrewq'\n",
        "if string1 == string1[::-1]:\n",
        "  print('YES')\n",
        "else:\n",
        "  print('NO')"
      ],
      "metadata": {
        "colab": {
          "base_uri": "https://localhost:8080/"
        },
        "id": "Cfe67SnOxpn1",
        "outputId": "5ec4277b-dc16-48d1-fe69-f79190d891fc"
      },
      "execution_count": 11,
      "outputs": [
        {
          "output_type": "stream",
          "name": "stdout",
          "text": [
            "YES\n"
          ]
        }
      ]
    }
  ]
}