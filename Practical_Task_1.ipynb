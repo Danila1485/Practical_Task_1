{
  "nbformat": 4,
  "nbformat_minor": 0,
  "metadata": {
    "colab": {
      "provenance": [],
      "authorship_tag": "ABX9TyMzJrZHEMqEQdfVLv1nSzkE",
      "include_colab_link": true
    },
    "kernelspec": {
      "name": "python3",
      "display_name": "Python 3"
    },
    "language_info": {
      "name": "python"
    }
  },
  "cells": [
    {
      "cell_type": "markdown",
      "metadata": {
        "id": "view-in-github",
        "colab_type": "text"
      },
      "source": [
        "<a href=\"https://colab.research.google.com/github/Danila1485/Practical_Task_1/blob/main/Practical_Task_1.ipynb\" target=\"_parent\"><img src=\"https://colab.research.google.com/assets/colab-badge.svg\" alt=\"Open In Colab\"/></a>"
      ]
    },
    {
      "cell_type": "markdown",
      "source": [
        "№1.1 Задана строка. Необходимо посчитать количество символов"
      ],
      "metadata": {
        "id": "_nQ6ZNNftfyI"
      }
    },
    {
      "cell_type": "code",
      "source": [
        "a = 'Hello world!'\n",
        "print(len(a))"
      ],
      "metadata": {
        "colab": {
          "base_uri": "https://localhost:8080/"
        },
        "id": "a8YnKR9puGTg",
        "outputId": "1813b10d-02b0-42f3-9320-6f5f57aee678"
      },
      "execution_count": 2,
      "outputs": [
        {
          "output_type": "stream",
          "name": "stdout",
          "text": [
            "12\n"
          ]
        }
      ]
    },
    {
      "cell_type": "markdown",
      "source": [
        "№1.2 Измените порядок символов в строке на обратный."
      ],
      "metadata": {
        "id": "HhHYlwk2u1Vu"
      }
    },
    {
      "cell_type": "code",
      "source": [
        "print(a[::-1])"
      ],
      "metadata": {
        "colab": {
          "base_uri": "https://localhost:8080/"
        },
        "id": "_OTiZDE4vB84",
        "outputId": "507b99de-b4a5-4b5d-a6a8-20e4217126fd"
      },
      "execution_count": 3,
      "outputs": [
        {
          "output_type": "stream",
          "name": "stdout",
          "text": [
            "!dlrow olleH\n"
          ]
        }
      ]
    },
    {
      "cell_type": "markdown",
      "source": [
        "№1.3 Найдите подстроку, заключенную в двойных кавычках в строке."
      ],
      "metadata": {
        "id": "wBv1eWP8vLuy"
      }
    },
    {
      "cell_type": "code",
      "source": [
        "s = \"Hello 'world'!\"\n",
        "print(s[s.find(\"'\")+1:len(s) - int(s[::-1].find(\"'\"))-1])"
      ],
      "metadata": {
        "colab": {
          "base_uri": "https://localhost:8080/"
        },
        "id": "ofu2zqlJvdL0",
        "outputId": "82d6856d-1ace-480b-f226-300e97c7e029"
      },
      "execution_count": 4,
      "outputs": [
        {
          "output_type": "stream",
          "name": "stdout",
          "text": [
            "world\n"
          ]
        }
      ]
    },
    {
      "cell_type": "markdown",
      "source": [
        "№2.1\n"
      ],
      "metadata": {
        "id": "mP4M2L_zvjiM"
      }
    }
  ]
}